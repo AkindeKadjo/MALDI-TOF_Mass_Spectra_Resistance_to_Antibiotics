{
 "cells": [
  {
   "cell_type": "markdown",
   "id": "cf2c385f",
   "metadata": {},
   "source": [
    "by Akinde Kadjo"
   ]
  },
  {
   "cell_type": "markdown",
   "id": "ba94bef4",
   "metadata": {},
   "source": [
    "**The goal** here is to get the data into a concise form. Due to its large size (20 GB), the data won't be added to GitHub, but the original data set can be found [here.](https://www.kaggle.com/datasets/drscarlat/driams)"
   ]
  },
  {
   "cell_type": "markdown",
   "id": "dcdbd087",
   "metadata": {},
   "source": [
    "# Imports"
   ]
  },
  {
   "cell_type": "code",
   "execution_count": 1,
   "id": "26f4f3f6",
   "metadata": {},
   "outputs": [],
   "source": [
    "import pandas as pd\n",
    "import numpy as np\n",
    "import matplotlib.pylab as plt\n",
    "import seaborn as sns\n",
    "import os\n",
    "from glob import glob\n",
    "from tqdm import tqdm\n",
    "from tqdm.keras import TqdmCallback\n",
    "import time"
   ]
  },
  {
   "cell_type": "markdown",
   "id": "4dceebdb",
   "metadata": {},
   "source": [
    "# Functions"
   ]
  },
  {
   "cell_type": "code",
   "execution_count": 2,
   "id": "d7fedbea",
   "metadata": {},
   "outputs": [],
   "source": [
    "#extract all the files within the path/directory \n",
    "#then convert put them into a single dataframe\n",
    "def ms_to_pd(folder_path):\n",
    "    col_list =[f'bin{i}' for i in range(6000)]\n",
    "    data = []\n",
    "    for i, filename in tqdm (list(enumerate(os.listdir(folder_path)))):\n",
    "        if filename.endswith('.txt'):\n",
    "            file_path = os.path.join(folder_path, filename)\n",
    "            df = pd.read_csv(file_path, sep=' ', usecols=[1])\n",
    "            df = df.transpose()\n",
    "            df.columns = col_list\n",
    "            df['id'] = os.path.splitext(os.path.basename(filename))[0]\n",
    "            data.append(df)\n",
    "    df = pd.concat(data, ignore_index=True)\n",
    "    X = df.drop(columns='id')\n",
    "    df = pd.concat([df['id'], X], axis =1)\n",
    "    return df"
   ]
  },
  {
   "cell_type": "code",
   "execution_count": 3,
   "id": "d7fa5f6d",
   "metadata": {},
   "outputs": [],
   "source": [
    "# function to set data frame columns in a given order\n",
    "def orderdf(df, new_list):\n",
    "    new_df= pd.DataFrame()\n",
    "    for i, col in tqdm(enumerate(new_list)):\n",
    "        if col in list(df.columns):\n",
    "            new_df[col] = df[col]\n",
    "        else:\n",
    "            new_df[col] = pd.Series([np.nan]*(len(df)))\n",
    "    return new_df"
   ]
  },
  {
   "cell_type": "markdown",
   "id": "1b4b389f",
   "metadata": {},
   "source": [
    "# Mass Spectra"
   ]
  },
  {
   "cell_type": "code",
   "execution_count": 16,
   "id": "3a49e017",
   "metadata": {},
   "outputs": [
    {
     "name": "stdout",
     "output_type": "stream",
     "text": [
      "df shape (6000, 2)\n"
     ]
    },
    {
     "data": {
      "text/html": [
       "<div>\n",
       "<style scoped>\n",
       "    .dataframe tbody tr th:only-of-type {\n",
       "        vertical-align: middle;\n",
       "    }\n",
       "\n",
       "    .dataframe tbody tr th {\n",
       "        vertical-align: top;\n",
       "    }\n",
       "\n",
       "    .dataframe thead th {\n",
       "        text-align: right;\n",
       "    }\n",
       "</style>\n",
       "<table border=\"1\" class=\"dataframe\">\n",
       "  <thead>\n",
       "    <tr style=\"text-align: right;\">\n",
       "      <th></th>\n",
       "      <th>bin_index</th>\n",
       "      <th>binned_intensity</th>\n",
       "    </tr>\n",
       "  </thead>\n",
       "  <tbody>\n",
       "    <tr>\n",
       "      <th>0</th>\n",
       "      <td>0</td>\n",
       "      <td>0.000288</td>\n",
       "    </tr>\n",
       "    <tr>\n",
       "      <th>1</th>\n",
       "      <td>1</td>\n",
       "      <td>0.000433</td>\n",
       "    </tr>\n",
       "  </tbody>\n",
       "</table>\n",
       "</div>"
      ],
      "text/plain": [
       "   bin_index  binned_intensity\n",
       "0          0          0.000288\n",
       "1          1          0.000433"
      ]
     },
     "execution_count": 16,
     "metadata": {},
     "output_type": "execute_result"
    }
   ],
   "source": [
    "#a quick look at one of the files\n",
    "file_path = 'binned_6000/2015/000d2b4a-ca7f-41c6-a9a2-968874ee9ce4.txt'\n",
    "df = pd.read_csv(file_path, sep=' ')\n",
    "print(f'df shape {df.shape}')\n",
    "df.head(2)"
   ]
  },
  {
   "cell_type": "code",
   "execution_count": 17,
   "id": "30c3d19b",
   "metadata": {},
   "outputs": [
    {
     "name": "stderr",
     "output_type": "stream",
     "text": [
      "100%|██████████| 3198/3198 [00:32<00:00, 99.45it/s] \n"
     ]
    },
    {
     "name": "stdout",
     "output_type": "stream",
     "text": [
      "(3198, 6001)\n"
     ]
    },
    {
     "data": {
      "text/html": [
       "<div>\n",
       "<style scoped>\n",
       "    .dataframe tbody tr th:only-of-type {\n",
       "        vertical-align: middle;\n",
       "    }\n",
       "\n",
       "    .dataframe tbody tr th {\n",
       "        vertical-align: top;\n",
       "    }\n",
       "\n",
       "    .dataframe thead th {\n",
       "        text-align: right;\n",
       "    }\n",
       "</style>\n",
       "<table border=\"1\" class=\"dataframe\">\n",
       "  <thead>\n",
       "    <tr style=\"text-align: right;\">\n",
       "      <th></th>\n",
       "      <th>id</th>\n",
       "      <th>bin0</th>\n",
       "      <th>bin1</th>\n",
       "      <th>bin2</th>\n",
       "      <th>bin3</th>\n",
       "      <th>bin4</th>\n",
       "      <th>bin5</th>\n",
       "      <th>bin6</th>\n",
       "      <th>bin7</th>\n",
       "      <th>bin8</th>\n",
       "      <th>...</th>\n",
       "      <th>bin5990</th>\n",
       "      <th>bin5991</th>\n",
       "      <th>bin5992</th>\n",
       "      <th>bin5993</th>\n",
       "      <th>bin5994</th>\n",
       "      <th>bin5995</th>\n",
       "      <th>bin5996</th>\n",
       "      <th>bin5997</th>\n",
       "      <th>bin5998</th>\n",
       "      <th>bin5999</th>\n",
       "    </tr>\n",
       "  </thead>\n",
       "  <tbody>\n",
       "    <tr>\n",
       "      <th>0</th>\n",
       "      <td>000d2b4a-ca7f-41c6-a9a2-968874ee9ce4</td>\n",
       "      <td>0.000288</td>\n",
       "      <td>0.000433</td>\n",
       "      <td>0.000165</td>\n",
       "      <td>0.000366</td>\n",
       "      <td>0.000182</td>\n",
       "      <td>0.000142</td>\n",
       "      <td>0.000268</td>\n",
       "      <td>0.000192</td>\n",
       "      <td>0.000301</td>\n",
       "      <td>...</td>\n",
       "      <td>0.000022</td>\n",
       "      <td>0.000011</td>\n",
       "      <td>0.000012</td>\n",
       "      <td>0.000035</td>\n",
       "      <td>0.000062</td>\n",
       "      <td>0.000082</td>\n",
       "      <td>0.000062</td>\n",
       "      <td>0.000076</td>\n",
       "      <td>0.000093</td>\n",
       "      <td>0.000126</td>\n",
       "    </tr>\n",
       "    <tr>\n",
       "      <th>1</th>\n",
       "      <td>0014baec-4eb8-4a78-913a-99cc773b62b7</td>\n",
       "      <td>0.000496</td>\n",
       "      <td>0.000170</td>\n",
       "      <td>0.000286</td>\n",
       "      <td>0.000547</td>\n",
       "      <td>0.000991</td>\n",
       "      <td>0.000563</td>\n",
       "      <td>0.000156</td>\n",
       "      <td>0.000040</td>\n",
       "      <td>0.000451</td>\n",
       "      <td>...</td>\n",
       "      <td>0.000067</td>\n",
       "      <td>0.000085</td>\n",
       "      <td>0.000042</td>\n",
       "      <td>0.000048</td>\n",
       "      <td>0.000061</td>\n",
       "      <td>0.000085</td>\n",
       "      <td>0.000044</td>\n",
       "      <td>0.000027</td>\n",
       "      <td>0.000010</td>\n",
       "      <td>0.000008</td>\n",
       "    </tr>\n",
       "  </tbody>\n",
       "</table>\n",
       "<p>2 rows × 6001 columns</p>\n",
       "</div>"
      ],
      "text/plain": [
       "                                     id      bin0      bin1      bin2  \\\n",
       "0  000d2b4a-ca7f-41c6-a9a2-968874ee9ce4  0.000288  0.000433  0.000165   \n",
       "1  0014baec-4eb8-4a78-913a-99cc773b62b7  0.000496  0.000170  0.000286   \n",
       "\n",
       "       bin3      bin4      bin5      bin6      bin7      bin8  ...   bin5990  \\\n",
       "0  0.000366  0.000182  0.000142  0.000268  0.000192  0.000301  ...  0.000022   \n",
       "1  0.000547  0.000991  0.000563  0.000156  0.000040  0.000451  ...  0.000067   \n",
       "\n",
       "    bin5991   bin5992   bin5993   bin5994   bin5995   bin5996   bin5997  \\\n",
       "0  0.000011  0.000012  0.000035  0.000062  0.000082  0.000062  0.000076   \n",
       "1  0.000085  0.000042  0.000048  0.000061  0.000085  0.000044  0.000027   \n",
       "\n",
       "    bin5998   bin5999  \n",
       "0  0.000093  0.000126  \n",
       "1  0.000010  0.000008  \n",
       "\n",
       "[2 rows x 6001 columns]"
      ]
     },
     "execution_count": 17,
     "metadata": {},
     "output_type": "execute_result"
    }
   ],
   "source": [
    "#converting the 2015 data into pd\n",
    "df2015 = ms_to_pd('binned_6000/2015')\n",
    "print(df2015.shape)\n",
    "df2015.to_csv('compiled_ms2015.csv.gz', index=False, compression='gzip')\n",
    "df2015.head(2)"
   ]
  },
  {
   "cell_type": "code",
   "execution_count": 18,
   "id": "9eeac6ea",
   "metadata": {},
   "outputs": [
    {
     "name": "stderr",
     "output_type": "stream",
     "text": [
      "100%|██████████| 34868/34868 [20:05<00:00, 28.92it/s]\n"
     ]
    },
    {
     "name": "stdout",
     "output_type": "stream",
     "text": [
      "(34868, 6001)\n"
     ]
    }
   ],
   "source": [
    "df2016 = ms_to_pd('binned_6000/2016')\n",
    "print(df2016.shape)\n",
    "df2016.to_csv('compiled_ms2016.csv.gz', index=False, compression='gzip')"
   ]
  },
  {
   "cell_type": "code",
   "execution_count": 3,
   "id": "92bb4b4f",
   "metadata": {},
   "outputs": [
    {
     "name": "stderr",
     "output_type": "stream",
     "text": [
      "100%|██████████| 43122/43122 [49:37<00:00, 14.48it/s]  \n"
     ]
    },
    {
     "name": "stdout",
     "output_type": "stream",
     "text": [
      "(43122, 6001)\n"
     ]
    }
   ],
   "source": [
    "df2017 = ms_to_pd('binned_6000/2017')\n",
    "print(df2017.shape)\n",
    "df2017.to_csv('compiled_ms2017.csv.gz', index=False, compression='gzip')"
   ]
  },
  {
   "cell_type": "code",
   "execution_count": 4,
   "id": "a56e83ac",
   "metadata": {},
   "outputs": [
    {
     "name": "stderr",
     "output_type": "stream",
     "text": [
      "100%|██████████| 30069/30069 [26:19<00:00, 19.03it/s]  \n"
     ]
    },
    {
     "name": "stdout",
     "output_type": "stream",
     "text": [
      "(30069, 6001)\n"
     ]
    }
   ],
   "source": [
    "df2018 = ms_to_pd('binned_6000/2018')\n",
    "print(df2018.shape)\n",
    "df2018.to_csv('compiled_ms2018.csv.gz', index=False, compression='gzip')"
   ]
  },
  {
   "cell_type": "code",
   "execution_count": 9,
   "id": "ff3aa8e5",
   "metadata": {},
   "outputs": [
    {
     "data": {
      "text/plain": [
       "(111257, 6001)"
      ]
     },
     "execution_count": 9,
     "metadata": {},
     "output_type": "execute_result"
    }
   ],
   "source": [
    "#combining all MS data\n",
    "ms_df = pd.concat([df2015,df2016,df2017,df2018])\n",
    "ms_df.shape"
   ]
  },
  {
   "cell_type": "markdown",
   "id": "9e2912c9",
   "metadata": {},
   "source": [
    "# Labels"
   ]
  },
  {
   "cell_type": "code",
   "execution_count": 5,
   "id": "6ef10f44",
   "metadata": {},
   "outputs": [
    {
     "name": "stdout",
     "output_type": "stream",
     "text": [
      "(3198, 81)\n"
     ]
    },
    {
     "data": {
      "text/html": [
       "<div>\n",
       "<style scoped>\n",
       "    .dataframe tbody tr th:only-of-type {\n",
       "        vertical-align: middle;\n",
       "    }\n",
       "\n",
       "    .dataframe tbody tr th {\n",
       "        vertical-align: top;\n",
       "    }\n",
       "\n",
       "    .dataframe thead th {\n",
       "        text-align: right;\n",
       "    }\n",
       "</style>\n",
       "<table border=\"1\" class=\"dataframe\">\n",
       "  <thead>\n",
       "    <tr style=\"text-align: right;\">\n",
       "      <th></th>\n",
       "      <th>code</th>\n",
       "      <th>species</th>\n",
       "      <th>laboratory_species</th>\n",
       "      <th>Piperacillin-Tazobactam</th>\n",
       "      <th>Meropenem</th>\n",
       "      <th>Ciprofloxacin</th>\n",
       "      <th>Cefepime</th>\n",
       "      <th>Cotrimoxazole</th>\n",
       "      <th>Ceftazidime</th>\n",
       "      <th>Amikacin</th>\n",
       "      <th>...</th>\n",
       "      <th>Fosfomycin</th>\n",
       "      <th>Ticarcillin-Clavulan acid</th>\n",
       "      <th>Penicillin_without_endokarditis</th>\n",
       "      <th>Penicillin_with_endokarditis</th>\n",
       "      <th>Doxycycline</th>\n",
       "      <th>Cefoxitin_screen</th>\n",
       "      <th>Isoniazid_.4mg-l</th>\n",
       "      <th>Bacitracin</th>\n",
       "      <th>Vancomycin_GRD</th>\n",
       "      <th>Teicoplanin_GRD</th>\n",
       "    </tr>\n",
       "  </thead>\n",
       "  <tbody>\n",
       "    <tr>\n",
       "      <th>0</th>\n",
       "      <td>74969164-613a-4455-ac8e-5666ee0dfade</td>\n",
       "      <td>MIX!Streptococcus pneumoniae</td>\n",
       "      <td>NaN</td>\n",
       "      <td>NaN</td>\n",
       "      <td>NaN</td>\n",
       "      <td>NaN</td>\n",
       "      <td>NaN</td>\n",
       "      <td>NaN</td>\n",
       "      <td>NaN</td>\n",
       "      <td>NaN</td>\n",
       "      <td>...</td>\n",
       "      <td>NaN</td>\n",
       "      <td>NaN</td>\n",
       "      <td>NaN</td>\n",
       "      <td>NaN</td>\n",
       "      <td>NaN</td>\n",
       "      <td>NaN</td>\n",
       "      <td>NaN</td>\n",
       "      <td>NaN</td>\n",
       "      <td>NaN</td>\n",
       "      <td>NaN</td>\n",
       "    </tr>\n",
       "    <tr>\n",
       "      <th>1</th>\n",
       "      <td>e9adf43d-679b-497c-9849-1fa214838dd3</td>\n",
       "      <td>Staphylococcus epidermidis</td>\n",
       "      <td>Staphylococcus epidermidis</td>\n",
       "      <td>R</td>\n",
       "      <td>R</td>\n",
       "      <td>R</td>\n",
       "      <td>R</td>\n",
       "      <td>S</td>\n",
       "      <td>-</td>\n",
       "      <td>-</td>\n",
       "      <td>...</td>\n",
       "      <td>NaN</td>\n",
       "      <td>NaN</td>\n",
       "      <td>-</td>\n",
       "      <td>-</td>\n",
       "      <td>NaN</td>\n",
       "      <td>-</td>\n",
       "      <td>NaN</td>\n",
       "      <td>NaN</td>\n",
       "      <td>NaN</td>\n",
       "      <td>NaN</td>\n",
       "    </tr>\n",
       "  </tbody>\n",
       "</table>\n",
       "<p>2 rows × 81 columns</p>\n",
       "</div>"
      ],
      "text/plain": [
       "                                   code                       species  \\\n",
       "0  74969164-613a-4455-ac8e-5666ee0dfade  MIX!Streptococcus pneumoniae   \n",
       "1  e9adf43d-679b-497c-9849-1fa214838dd3    Staphylococcus epidermidis   \n",
       "\n",
       "           laboratory_species Piperacillin-Tazobactam Meropenem Ciprofloxacin  \\\n",
       "0                         NaN                     NaN       NaN           NaN   \n",
       "1  Staphylococcus epidermidis                       R         R             R   \n",
       "\n",
       "  Cefepime Cotrimoxazole Ceftazidime Amikacin  ... Fosfomycin  \\\n",
       "0      NaN           NaN         NaN      NaN  ...        NaN   \n",
       "1        R             S           -        -  ...        NaN   \n",
       "\n",
       "  Ticarcillin-Clavulan acid Penicillin_without_endokarditis  \\\n",
       "0                       NaN                             NaN   \n",
       "1                       NaN                               -   \n",
       "\n",
       "  Penicillin_with_endokarditis Doxycycline Cefoxitin_screen Isoniazid_.4mg-l  \\\n",
       "0                          NaN         NaN              NaN              NaN   \n",
       "1                            -         NaN                -              NaN   \n",
       "\n",
       "  Bacitracin Vancomycin_GRD Teicoplanin_GRD  \n",
       "0        NaN            NaN             NaN  \n",
       "1        NaN            NaN             NaN  \n",
       "\n",
       "[2 rows x 81 columns]"
      ]
     },
     "execution_count": 5,
     "metadata": {},
     "output_type": "execute_result"
    }
   ],
   "source": [
    "id2015 = pd.read_csv('id/2015/2015_clean.csv', low_memory=False)\n",
    "print(id2015.shape)\n",
    "id2015.head(2)"
   ]
  },
  {
   "cell_type": "code",
   "execution_count": 6,
   "id": "5b9f6acb",
   "metadata": {},
   "outputs": [
    {
     "name": "stdout",
     "output_type": "stream",
     "text": [
      "(34868, 90)\n",
      "(43122, 90)\n",
      "(30069, 87)\n"
     ]
    }
   ],
   "source": [
    "id2016 = pd.read_csv('id/2016/2016_clean.csv', low_memory=False)\n",
    "print(id2016.shape)\n",
    "id2017 = pd.read_csv('id/2017/2017_clean.csv', low_memory=False)\n",
    "print(id2017.shape)\n",
    "id2018 = pd.read_csv('id/2018/2018_clean.csv', low_memory=False)\n",
    "print(id2018.shape)"
   ]
  },
  {
   "cell_type": "code",
   "execution_count": 7,
   "id": "933947ef",
   "metadata": {},
   "outputs": [
    {
     "name": "stdout",
     "output_type": "stream",
     "text": [
      "348\n",
      "92\n"
     ]
    }
   ],
   "source": [
    "all_columns = list(id2015.columns) + list(id2016.columns) + list(id2017.columns) + list(id2018.columns) \n",
    "print(len(all_columns))\n",
    "#list of columns without repeat\n",
    "column_list = list(set(all_columns))\n",
    "column_list.sort()\n",
    "print(len(column_list))"
   ]
  },
  {
   "cell_type": "code",
   "execution_count": 8,
   "id": "f334d0aa",
   "metadata": {},
   "outputs": [
    {
     "data": {
      "text/plain": [
       "['5-Fluorocytosine',\n",
       " 'Amikacin',\n",
       " 'Aminoglycosides',\n",
       " 'Amoxicillin',\n",
       " 'Amoxicillin-Clavulanic acid',\n",
       " 'Amoxicillin-Clavulanic acid_uncomplicated_HWI',\n",
       " 'Amphotericin B',\n",
       " 'Ampicillin-Amoxicillin',\n",
       " 'Ampicillin-Sulbactam',\n",
       " 'Anidulafungin',\n",
       " 'Azithromycin',\n",
       " 'Aztreonam',\n",
       " 'Bacitracin',\n",
       " 'Caspofungin',\n",
       " 'Cefazolin',\n",
       " 'Cefepime',\n",
       " 'Cefixime',\n",
       " 'Cefoxitin_screen',\n",
       " 'Cefpodoxime',\n",
       " 'Ceftarolin',\n",
       " 'Ceftazidime',\n",
       " 'Ceftazidime-Avibactam',\n",
       " 'Ceftobiprole',\n",
       " 'Ceftolozane-Tazobactam',\n",
       " 'Ceftriaxone',\n",
       " 'Cefuroxime',\n",
       " 'Cefuroxime.1',\n",
       " 'Chloramphenicol',\n",
       " 'Ciprofloxacin',\n",
       " 'Clarithromycin',\n",
       " 'Clindamycin',\n",
       " 'Colistin',\n",
       " 'Cotrimoxazole',\n",
       " 'Daptomycin',\n",
       " 'Doxycycline',\n",
       " 'Ertapenem',\n",
       " 'Erythromycin',\n",
       " 'Ethambutol_5mg-l',\n",
       " 'Fluconazole',\n",
       " 'Fosfomycin',\n",
       " 'Fosfomycin-Trometamol',\n",
       " 'Fusidic acid',\n",
       " 'Gentamicin',\n",
       " 'Gentamicin_high_level',\n",
       " 'Imipenem',\n",
       " 'Isavuconazole',\n",
       " 'Isoniazid_.1mg-l',\n",
       " 'Isoniazid_.4mg-l',\n",
       " 'Itraconazole',\n",
       " 'Levofloxacin',\n",
       " 'Linezolid',\n",
       " 'Meropenem',\n",
       " 'Meropenem_with_meningitis',\n",
       " 'Meropenem_with_pneumonia',\n",
       " 'Meropenem_without_meningitis',\n",
       " 'Metronidazole',\n",
       " 'Micafungin',\n",
       " 'Minocycline',\n",
       " 'Moxifloxacin',\n",
       " 'Mupirocin',\n",
       " 'Nitrofurantoin',\n",
       " 'Norfloxacin',\n",
       " 'Oxacillin',\n",
       " 'Penicillin',\n",
       " 'Penicillin_with_endokarditis',\n",
       " 'Penicillin_with_meningitis',\n",
       " 'Penicillin_with_other_infections',\n",
       " 'Penicillin_with_pneumonia',\n",
       " 'Penicillin_without_endokarditis',\n",
       " 'Penicillin_without_meningitis',\n",
       " 'Piperacillin-Tazobactam',\n",
       " 'Posaconazole',\n",
       " 'Pyrazinamide',\n",
       " 'Quinolones',\n",
       " 'Rifampicin',\n",
       " 'Rifampicin_1mg-l',\n",
       " 'Strepomycin_high_level',\n",
       " 'Streptomycin',\n",
       " 'Teicoplanin',\n",
       " 'Teicoplanin_GRD',\n",
       " 'Tetracycline',\n",
       " 'Ticarcillin-Clavulan acid',\n",
       " 'Tigecycline',\n",
       " 'Tobramycin',\n",
       " 'Unnamed: 0',\n",
       " 'Unnamed: 0.1',\n",
       " 'Vancomycin',\n",
       " 'Vancomycin_GRD',\n",
       " 'Voriconazole',\n",
       " 'code',\n",
       " 'laboratory_species',\n",
       " 'species']"
      ]
     },
     "execution_count": 8,
     "metadata": {},
     "output_type": "execute_result"
    }
   ],
   "source": [
    "column_list"
   ]
  },
  {
   "cell_type": "code",
   "execution_count": 9,
   "id": "6018cb0f",
   "metadata": {},
   "outputs": [
    {
     "data": {
      "text/plain": [
       "['5-Fluorocytosine',\n",
       " 'Amikacin',\n",
       " 'Aminoglycosides',\n",
       " 'Amoxicillin',\n",
       " 'Amoxicillin-Clavulanic acid',\n",
       " 'Amoxicillin-Clavulanic acid_uncomplicated_HWI',\n",
       " 'Amphotericin B',\n",
       " 'Ampicillin-Amoxicillin',\n",
       " 'Ampicillin-Sulbactam',\n",
       " 'Anidulafungin',\n",
       " 'Azithromycin',\n",
       " 'Aztreonam',\n",
       " 'Bacitracin',\n",
       " 'Caspofungin',\n",
       " 'Cefazolin',\n",
       " 'Cefepime',\n",
       " 'Cefixime',\n",
       " 'Cefoxitin_screen',\n",
       " 'Cefpodoxime',\n",
       " 'Ceftarolin',\n",
       " 'Ceftazidime',\n",
       " 'Ceftazidime-Avibactam',\n",
       " 'Ceftobiprole',\n",
       " 'Ceftolozane-Tazobactam',\n",
       " 'Ceftriaxone',\n",
       " 'Cefuroxime',\n",
       " 'Cefuroxime.1',\n",
       " 'Chloramphenicol',\n",
       " 'Ciprofloxacin',\n",
       " 'Clarithromycin',\n",
       " 'Clindamycin',\n",
       " 'Colistin',\n",
       " 'Cotrimoxazole',\n",
       " 'Daptomycin',\n",
       " 'Doxycycline',\n",
       " 'Ertapenem',\n",
       " 'Erythromycin',\n",
       " 'Ethambutol_5mg-l',\n",
       " 'Fluconazole',\n",
       " 'Fosfomycin',\n",
       " 'Fosfomycin-Trometamol',\n",
       " 'Fusidic acid',\n",
       " 'Gentamicin',\n",
       " 'Gentamicin_high_level',\n",
       " 'Imipenem',\n",
       " 'Isavuconazole',\n",
       " 'Isoniazid_.1mg-l',\n",
       " 'Isoniazid_.4mg-l',\n",
       " 'Itraconazole',\n",
       " 'Levofloxacin',\n",
       " 'Linezolid',\n",
       " 'Meropenem',\n",
       " 'Meropenem_with_meningitis',\n",
       " 'Meropenem_with_pneumonia',\n",
       " 'Meropenem_without_meningitis',\n",
       " 'Metronidazole',\n",
       " 'Micafungin',\n",
       " 'Minocycline',\n",
       " 'Moxifloxacin',\n",
       " 'Mupirocin',\n",
       " 'Nitrofurantoin',\n",
       " 'Norfloxacin',\n",
       " 'Oxacillin',\n",
       " 'Penicillin',\n",
       " 'Penicillin_with_endokarditis',\n",
       " 'Penicillin_with_meningitis',\n",
       " 'Penicillin_with_other_infections',\n",
       " 'Penicillin_with_pneumonia',\n",
       " 'Penicillin_without_endokarditis',\n",
       " 'Penicillin_without_meningitis',\n",
       " 'Piperacillin-Tazobactam',\n",
       " 'Posaconazole',\n",
       " 'Pyrazinamide',\n",
       " 'Quinolones',\n",
       " 'Rifampicin',\n",
       " 'Rifampicin_1mg-l',\n",
       " 'Strepomycin_high_level',\n",
       " 'Streptomycin',\n",
       " 'Teicoplanin',\n",
       " 'Teicoplanin_GRD',\n",
       " 'Tetracycline',\n",
       " 'Ticarcillin-Clavulan acid',\n",
       " 'Tigecycline',\n",
       " 'Tobramycin',\n",
       " 'Vancomycin',\n",
       " 'Vancomycin_GRD',\n",
       " 'Voriconazole',\n",
       " 'code',\n",
       " 'laboratory_species',\n",
       " 'species']"
      ]
     },
     "execution_count": 9,
     "metadata": {},
     "output_type": "execute_result"
    }
   ],
   "source": [
    "#re-arranging the list\n",
    "column_list.remove('Unnamed: 0')\n",
    "column_list.remove('Unnamed: 0.1')\n",
    "column_list"
   ]
  },
  {
   "cell_type": "code",
   "execution_count": 10,
   "id": "172f174d",
   "metadata": {},
   "outputs": [],
   "source": [
    "column_list = column_list[-3:] + column_list[:-3]"
   ]
  },
  {
   "cell_type": "code",
   "execution_count": 11,
   "id": "5350e623",
   "metadata": {},
   "outputs": [
    {
     "data": {
      "text/plain": [
       "['code',\n",
       " 'laboratory_species',\n",
       " 'species',\n",
       " '5-Fluorocytosine',\n",
       " 'Amikacin',\n",
       " 'Aminoglycosides',\n",
       " 'Amoxicillin',\n",
       " 'Amoxicillin-Clavulanic acid',\n",
       " 'Amoxicillin-Clavulanic acid_uncomplicated_HWI',\n",
       " 'Amphotericin B',\n",
       " 'Ampicillin-Amoxicillin',\n",
       " 'Ampicillin-Sulbactam',\n",
       " 'Anidulafungin',\n",
       " 'Azithromycin',\n",
       " 'Aztreonam',\n",
       " 'Bacitracin',\n",
       " 'Caspofungin',\n",
       " 'Cefazolin',\n",
       " 'Cefepime',\n",
       " 'Cefixime',\n",
       " 'Cefoxitin_screen',\n",
       " 'Cefpodoxime',\n",
       " 'Ceftarolin',\n",
       " 'Ceftazidime',\n",
       " 'Ceftazidime-Avibactam',\n",
       " 'Ceftobiprole',\n",
       " 'Ceftolozane-Tazobactam',\n",
       " 'Ceftriaxone',\n",
       " 'Cefuroxime',\n",
       " 'Cefuroxime.1',\n",
       " 'Chloramphenicol',\n",
       " 'Ciprofloxacin',\n",
       " 'Clarithromycin',\n",
       " 'Clindamycin',\n",
       " 'Colistin',\n",
       " 'Cotrimoxazole',\n",
       " 'Daptomycin',\n",
       " 'Doxycycline',\n",
       " 'Ertapenem',\n",
       " 'Erythromycin',\n",
       " 'Ethambutol_5mg-l',\n",
       " 'Fluconazole',\n",
       " 'Fosfomycin',\n",
       " 'Fosfomycin-Trometamol',\n",
       " 'Fusidic acid',\n",
       " 'Gentamicin',\n",
       " 'Gentamicin_high_level',\n",
       " 'Imipenem',\n",
       " 'Isavuconazole',\n",
       " 'Isoniazid_.1mg-l',\n",
       " 'Isoniazid_.4mg-l',\n",
       " 'Itraconazole',\n",
       " 'Levofloxacin',\n",
       " 'Linezolid',\n",
       " 'Meropenem',\n",
       " 'Meropenem_with_meningitis',\n",
       " 'Meropenem_with_pneumonia',\n",
       " 'Meropenem_without_meningitis',\n",
       " 'Metronidazole',\n",
       " 'Micafungin',\n",
       " 'Minocycline',\n",
       " 'Moxifloxacin',\n",
       " 'Mupirocin',\n",
       " 'Nitrofurantoin',\n",
       " 'Norfloxacin',\n",
       " 'Oxacillin',\n",
       " 'Penicillin',\n",
       " 'Penicillin_with_endokarditis',\n",
       " 'Penicillin_with_meningitis',\n",
       " 'Penicillin_with_other_infections',\n",
       " 'Penicillin_with_pneumonia',\n",
       " 'Penicillin_without_endokarditis',\n",
       " 'Penicillin_without_meningitis',\n",
       " 'Piperacillin-Tazobactam',\n",
       " 'Posaconazole',\n",
       " 'Pyrazinamide',\n",
       " 'Quinolones',\n",
       " 'Rifampicin',\n",
       " 'Rifampicin_1mg-l',\n",
       " 'Strepomycin_high_level',\n",
       " 'Streptomycin',\n",
       " 'Teicoplanin',\n",
       " 'Teicoplanin_GRD',\n",
       " 'Tetracycline',\n",
       " 'Ticarcillin-Clavulan acid',\n",
       " 'Tigecycline',\n",
       " 'Tobramycin',\n",
       " 'Vancomycin',\n",
       " 'Vancomycin_GRD',\n",
       " 'Voriconazole']"
      ]
     },
     "execution_count": 11,
     "metadata": {},
     "output_type": "execute_result"
    }
   ],
   "source": [
    "column_list"
   ]
  },
  {
   "cell_type": "code",
   "execution_count": 12,
   "id": "4c5ed108",
   "metadata": {},
   "outputs": [
    {
     "name": "stderr",
     "output_type": "stream",
     "text": [
      "90it [00:00, 1653.42it/s]\n"
     ]
    },
    {
     "name": "stdout",
     "output_type": "stream",
     "text": [
      "(3198, 90)\n"
     ]
    },
    {
     "name": "stderr",
     "output_type": "stream",
     "text": [
      "90it [00:00, 999.96it/s]\n"
     ]
    },
    {
     "name": "stdout",
     "output_type": "stream",
     "text": [
      "(34868, 90)\n"
     ]
    },
    {
     "name": "stderr",
     "output_type": "stream",
     "text": [
      "90it [00:00, 988.94it/s]\n"
     ]
    },
    {
     "name": "stdout",
     "output_type": "stream",
     "text": [
      "(43122, 90)\n"
     ]
    },
    {
     "name": "stderr",
     "output_type": "stream",
     "text": [
      "90it [00:00, 986.14it/s]"
     ]
    },
    {
     "name": "stdout",
     "output_type": "stream",
     "text": [
      "(30069, 90)\n"
     ]
    },
    {
     "name": "stderr",
     "output_type": "stream",
     "text": [
      "\n"
     ]
    }
   ],
   "source": [
    "df_2015 = orderdf(id2015, column_list)\n",
    "print(df_2015.shape)\n",
    "df_2016 = orderdf(id2016, column_list)\n",
    "print(df_2016.shape)\n",
    "df_2017 = orderdf(id2017, column_list)\n",
    "print(df_2017.shape)\n",
    "df_2018 = orderdf(id2018, column_list)\n",
    "print(df_2018.shape)"
   ]
  },
  {
   "cell_type": "code",
   "execution_count": 13,
   "id": "10863e77",
   "metadata": {},
   "outputs": [
    {
     "data": {
      "text/plain": [
       "(111257, 90)"
      ]
     },
     "execution_count": 13,
     "metadata": {},
     "output_type": "execute_result"
    }
   ],
   "source": [
    "id_df = pd.concat([df_2015,df_2016,df_2017,df_2018], ignore_index=True)\n",
    "id_df.shape"
   ]
  },
  {
   "cell_type": "code",
   "execution_count": 14,
   "id": "63f54a3c",
   "metadata": {},
   "outputs": [
    {
     "data": {
      "text/plain": [
       "0"
      ]
     },
     "execution_count": 14,
     "metadata": {},
     "output_type": "execute_result"
    }
   ],
   "source": [
    "#checking for duplicate\n",
    "id_df.duplicated().sum()"
   ]
  },
  {
   "cell_type": "code",
   "execution_count": 15,
   "id": "07ec1519",
   "metadata": {},
   "outputs": [],
   "source": [
    "id_df.to_csv('label.csv.gz', index=False, compression='gzip')"
   ]
  }
 ],
 "metadata": {
  "kernelspec": {
   "display_name": "Python (dojo-env)",
   "language": "python",
   "name": "dojo-env"
  },
  "language_info": {
   "codemirror_mode": {
    "name": "ipython",
    "version": 3
   },
   "file_extension": ".py",
   "mimetype": "text/x-python",
   "name": "python",
   "nbconvert_exporter": "python",
   "pygments_lexer": "ipython3",
   "version": "3.8.13"
  },
  "toc": {
   "base_numbering": 1,
   "nav_menu": {},
   "number_sections": false,
   "sideBar": true,
   "skip_h1_title": false,
   "title_cell": "Table of Contents",
   "title_sidebar": "Contents",
   "toc_cell": false,
   "toc_position": {},
   "toc_section_display": true,
   "toc_window_display": false
  }
 },
 "nbformat": 4,
 "nbformat_minor": 5
}
