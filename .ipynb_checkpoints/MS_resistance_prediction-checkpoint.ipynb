{
 "cells": [
  {
   "cell_type": "markdown",
   "id": "b64cb24b",
   "metadata": {},
   "source": [
    "By Akinde Kadjo"
   ]
  },
  {
   "cell_type": "markdown",
   "id": "8b9cabc2",
   "metadata": {},
   "source": [
    "# Introduction"
   ]
  },
  {
   "cell_type": "markdown",
   "id": "c7190d45",
   "metadata": {},
   "source": [
    "Antimicrobial resistance (AMR) occurs when an organism (bacteria, microbe etc. ) is or evolve to be resistant to an antibiotic. Microbes resistant to multiple antimicrobials are called multidrug resistant (MDR) and are sometimes referred to as superbugs.\n",
    "\n",
    "The goal of this project is to predict species AMR using their MS spectra. The Data used here was collected from the University Hospital of Basel, Switzerland and downloaded from [Kaggle](https://www.kaggle.com/datasets/drscarlat/driams/data). \n",
    "One of the publications ([link](https://www.biorxiv.org/content/10.1101/2020.07.30.228411v2)) using this same data, treats it as a multi-classification problem. \n",
    "\n",
    "My approach here is to treat is a regression problem where the labels for each antibiotic is converted into an overall antibiotic resistance score."
   ]
  },
  {
   "cell_type": "markdown",
   "id": "56da92ad",
   "metadata": {},
   "source": [
    "The image below (taken from [wikipedia](https://en.wikipedia.org/wiki/Antimicrobial_resistance) ) shows the bacteria on the right being resistant to 3 of the 7 antibiotics (white rings) while the bacteria on the left is sensitive to all of the 7 antibiotics."
   ]
  },
  {
   "cell_type": "code",
   "execution_count": 1,
   "id": "867ce1e3",
   "metadata": {},
   "outputs": [
    {
     "data": {
      "text/html": [
       "<img src=\"https://upload.wikimedia.org/wikipedia/commons/thumb/a/ab/Antibiotic_sensitivity_and_resistance.jpg/465px-Antibiotic_sensitivity_and_resistance.jpg\"/>"
      ],
      "text/plain": [
       "<IPython.core.display.Image object>"
      ]
     },
     "execution_count": 1,
     "metadata": {},
     "output_type": "execute_result"
    }
   ],
   "source": [
    "from IPython.display import Image\n",
    "from IPython.core.display import HTML \n",
    "Image(url= \"https://upload.wikimedia.org/wikipedia/commons/thumb/a/ab/Antibiotic_sensitivity_and_resistance.jpg/465px-Antibiotic_sensitivity_and_resistance.jpg\")"
   ]
  },
  {
   "cell_type": "markdown",
   "id": "9054a370",
   "metadata": {},
   "source": [
    "# Data Pre-processing"
   ]
  },
  {
   "cell_type": "markdown",
   "id": "b58a868c",
   "metadata": {},
   "source": [
    "The original data size is very large over 20 GB, so it won't be added to this GitHub directory but can be found at this link [here.](https://www.kaggle.com/datasets/drscarlat/driams) \n",
    "Only the DRIAMS-A folder is used."
   ]
  },
  {
   "cell_type": "markdown",
   "id": "96a51baa",
   "metadata": {},
   "source": [
    "## MS data preprocessing"
   ]
  },
  {
   "cell_type": "markdown",
   "id": "b533f08f",
   "metadata": {},
   "source": [
    "The ipynb file can be found [here.]()\n",
    "\n",
    "The provided MALDI-TOF mass spectra are stored in a *.txt* format that have been binned along the mass-to-charge-ratio axis with a bin size of 3Da, resulting in 6000 feature bins.\n",
    "My preprocessing steps consisted of: selecting only the binned data column from each *.txt* file, normalizing it to a maximum of 1, removing the noise by keeping data points above 5%, saving the data as float 16 for less memory, keeping the filename as in the id column, combining all of the data in a single dataframe and saving it as a single compressed file."
   ]
  },
  {
   "cell_type": "markdown",
   "id": "27afac34",
   "metadata": {},
   "source": [
    "## Label data preprocessing"
   ]
  },
  {
   "cell_type": "markdown",
   "id": "2b15a3dc",
   "metadata": {},
   "source": [
    "The ipynb file can be found [here.]()\n",
    "\n",
    "The provided labeled data are provided in a *.csv* format. In other words, this is the AMR (Antimicrobial resistance) susceptibility profile sheet, containing the code, species and antibiotic list, where R are listed for 'resistant' and S for 'sensitive'. My preprocessing steps consisted of: combining all of the column names from all 4 different files, removing unnecessary columns (i.e unnamed) and empty columns, combining all 4 files into a single Dataframe,  removing the duplicate species column, correcting the 'species' column for miss spelling, for rows with the same species fill the AMR with the most frequent entry, and saving it as a single compressed file."
   ]
  },
  {
   "cell_type": "markdown",
   "id": "7fe15cef",
   "metadata": {},
   "source": [
    "# Imports"
   ]
  },
  {
   "cell_type": "code",
   "execution_count": null,
   "id": "ca253eb1",
   "metadata": {},
   "outputs": [],
   "source": []
  }
 ],
 "metadata": {
  "kernelspec": {
   "display_name": "Python (dojo-env)",
   "language": "python",
   "name": "dojo-env"
  },
  "language_info": {
   "codemirror_mode": {
    "name": "ipython",
    "version": 3
   },
   "file_extension": ".py",
   "mimetype": "text/x-python",
   "name": "python",
   "nbconvert_exporter": "python",
   "pygments_lexer": "ipython3",
   "version": "3.8.13"
  },
  "toc": {
   "base_numbering": 1,
   "nav_menu": {},
   "number_sections": false,
   "sideBar": true,
   "skip_h1_title": false,
   "title_cell": "Table of Contents",
   "title_sidebar": "Contents",
   "toc_cell": false,
   "toc_position": {},
   "toc_section_display": true,
   "toc_window_display": false
  }
 },
 "nbformat": 4,
 "nbformat_minor": 5
}
